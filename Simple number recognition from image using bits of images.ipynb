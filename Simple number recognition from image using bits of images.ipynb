{
 "cells": [
  {
   "cell_type": "code",
   "execution_count": 136,
   "id": "2dfe4d55",
   "metadata": {},
   "outputs": [],
   "source": [
    "###### Import required libraries ######\n",
    "import numpy as np\n",
    "import matplotlib.pyplot as plt"
   ]
  },
  {
   "cell_type": "code",
   "execution_count": 99,
   "id": "4cc5d802",
   "metadata": {},
   "outputs": [],
   "source": [
    "###### Read all the 4 files #######\n",
    "dataDir = folder_location\n",
    "\n",
    "train_3 = []\n",
    "train_5 = []\n",
    "test_3 = []\n",
    "test_5 = []\n",
    "\n",
    "path = dataDir + \"train3.txt\"\n",
    "for i in open(path, 'rt', encoding=\"utf8\"):\n",
    "    a = [1]\n",
    "    a = a + [eval(k) for k in i.strip().split()]\n",
    "    train_3.append(a)\n",
    "\n",
    "path = dataDir + \"train5.txt\"\n",
    "for i in open(path, 'rt', encoding=\"utf8\"):\n",
    "    a = [1]\n",
    "    a = a + [eval(k) for k in i.strip().split()]\n",
    "    train_5.append(a)\n",
    "    \n",
    "path = dataDir + \"test3.txt\"\n",
    "for i in open(path, 'rt', encoding=\"utf8\"):\n",
    "    a = [1]\n",
    "    a = a + [eval(k) for k in i.strip().split()]\n",
    "    test_3.append(a)\n",
    "\n",
    "path = dataDir + \"test5.txt\"\n",
    "for i in open(path, 'rt', encoding=\"utf8\"):\n",
    "    a = [1]\n",
    "    a = a + [eval(k) for k in i.strip().split()]\n",
    "    test_5.append(a)\n",
    "    "
   ]
  },
  {
   "cell_type": "code",
   "execution_count": 151,
   "id": "9f5c187d",
   "metadata": {},
   "outputs": [],
   "source": [
    "###### Sigmoid function ########\n",
    "def sigmoid_func(z):\n",
    "    return 1/(1+np.exp(-z))\n",
    "\n",
    "##### define intial weights #######\n",
    "def initial_weigths(cols):\n",
    "    w = np.zeros((cols,1))\n",
    "    theta_0=1\n",
    "    return w,theta_0\n",
    "\n",
    "##### define a function to train the model #####\n",
    "def train_model(X,Y,learning_rate=0.01,no_of_iter=500, verbose=False):\n",
    "    n=X.shape[0]\n",
    "    m=X.shape[1]\n",
    "    w,theta_0 = initial_weigths(n)\n",
    "    assert w.shape == (n,1)\n",
    "    assert Y.shape == (1,m)\n",
    "    \n",
    "    log_likelihood = []\n",
    "    iterations = []\n",
    "    for i in range(no_of_iter):\n",
    "        z = np.dot(w.T,X) + theta_0\n",
    "        Y_dash = sigmoid_func(z)\n",
    "        assert Y_dash.shape == (1,m)\n",
    "        \n",
    "        log_lkl = np.sum((Y*np.log(Y_dash) + (1-Y)*np.log(1 - Y_dash)))\n",
    "        log_likelihood.append(log_lkl)\n",
    "        iterations.append(i+1)\n",
    "        dw = np.dot(X,(Y_dash-Y).T)/m\n",
    "        dtheta_0 = np.mean(Y_dash-Y)\n",
    "        \n",
    "        \n",
    "        w -= learning_rate*dw\n",
    "        theta_0 -= learning_rate*dtheta_0\n",
    "\n",
    "    return {'thetas':w,'theta_0':theta_0,'log_likelihood':log_likelihood, 'iterations':iterations}\n",
    "\n",
    "\n",
    "##### define the prediction function ##### \n",
    "def prediction(X,w,theta_0):\n",
    "    z = np.dot(w.T,X) + theta_0\n",
    "    Y_dash = sigmoid_func(z)\n",
    "    return Y_dash\n",
    "\n",
    "##### define error_rate ######\n",
    "def error_rate(X_1,X_2,check_type = 'train'):\n",
    "    X = np.array(X_1 + X_2)\n",
    "    X=X.T\n",
    "    Y = [0] *len(X_1)+ [1] *len(X_2)\n",
    "    Y_pred = predict(X,model['thetas'],model['theta_0'])\n",
    "    Y_pred = Y_pred.T\n",
    "    Y_pred = [1 if i>=0.5 else 0 for i in Y_pred]\n",
    "    pred_check = [i==j for i,j in zip(Y_pred,Y)]\n",
    "    error_rate_3 = 1-np.mean(pred_check[:len(X_1)])\n",
    "    error_rate_5 = 1-np.mean(pred_check[len(X_1):])\n",
    "    error_rate = 1-np.mean(pred_check)\n",
    "    print(f'The {check_type} error rate of images with 3 : {error_rate_3}')\n",
    "    print(f'The {check_type} error rate of images with 5 : {error_rate_5}')\n",
    "    print(f'The {check_type} error rate of all images : {error_rate}')"
   ]
  },
  {
   "cell_type": "code",
   "execution_count": 65,
   "id": "84e11d37",
   "metadata": {},
   "outputs": [],
   "source": [
    "####### Define X_train and Y_train ########\n",
    "X = np.array(train_3 + train_5)\n",
    "X_train = X.T\n",
    "Y = [0] *len(train_3)+ [1] *len(train_5)\n",
    "Y_train = np.array(Y).reshape(1,-1)"
   ]
  },
  {
   "cell_type": "code",
   "execution_count": 147,
   "id": "7c3f4e36",
   "metadata": {},
   "outputs": [],
   "source": [
    "###### train model #######\n",
    "model = train_model(X_train,Y_train,0.2/len(X),1000001)"
   ]
  },
  {
   "cell_type": "code",
   "execution_count": 150,
   "id": "38917147",
   "metadata": {},
   "outputs": [
    {
     "data": {
      "image/png": "[encoded data removed]",
      "text/plain": [
       "<Figure size 432x288 with 1 Axes>"
      ]
     },
     "metadata": {
      "needs_background": "light"
     },
     "output_type": "display_data"
    }
   ],
   "source": [
    "###### Plot the log-likelihood v/s iterations ######\n",
    "plt.plot(model['iterations'],model['log_likelihood'])\n",
    "plt.xlim(0, 1000500)\n",
    "plt.ylim(-1000, 0)\n",
    "plt.xlabel(\"Number of Iterations\")\n",
    "plt.ylabel(\"log-likelihood\")\n",
    "plt.title(\"log-likelihood v/s iterations\")\n",
    "plt.show()"
   ]
  },
  {
   "cell_type": "code",
   "execution_count": 163,
   "id": "7a1c403d",
   "metadata": {},
   "outputs": [
    {
     "name": "stdout",
     "output_type": "stream",
     "text": [
      "The weight vector as 8x8 matrix:\n"
     ]
    },
    {
     "data": {
      "text/plain": [
       "matrix([[-0.60470675, -0.78887994, -0.86100446, -0.82919888, -0.75105498,\n",
       "         -0.2013729 ,  0.68957485,  1.09219081],\n",
       "        [ 0.03935594,  0.09789716,  0.04828843,  0.05116128, -0.00221456,\n",
       "          0.31561287, -0.57406792, -0.89427206],\n",
       "        [ 1.31202052,  1.1186664 ,  0.96482973,  0.40630282,  0.08643016,\n",
       "         -1.15888706, -2.0471816 , -1.62177714],\n",
       "        [ 0.6053017 ,  0.58552393,  0.29152213, -0.21189418, -0.55708352,\n",
       "         -1.05405383, -0.17660504, -0.1822812 ],\n",
       "        [ 0.32110364,  0.48899569,  0.01742376, -0.20000893, -0.482559  ,\n",
       "         -0.39866576, -0.12017734, -0.37244975],\n",
       "        [ 0.60530062, -0.02865446, -0.18296525,  0.05222597,  0.05928849,\n",
       "         -0.21833949,  0.30319949, -0.73300691],\n",
       "        [ 0.72153503, -0.08257795,  0.64384127,  0.25617096,  0.10070061,\n",
       "         -0.07958903,  0.23348993, -0.58576441],\n",
       "        [ 0.08477485,  0.08448797,  0.2580957 ,  0.33949602,  0.20988595,\n",
       "          0.40634725, -0.03859284, -0.29061514]])"
      ]
     },
     "execution_count": 163,
     "metadata": {},
     "output_type": "execute_result"
    }
   ],
   "source": [
    "print('The weight vector as 8x8 matrix:')\n",
    "np.matrix(model['thetas'][1:].reshape(8,8))\n"
   ]
  },
  {
   "cell_type": "code",
   "execution_count": 153,
   "id": "2b3db272",
   "metadata": {},
   "outputs": [
    {
     "name": "stdout",
     "output_type": "stream",
     "text": [
      "The train error rate of images with 3 : 0.05249999999999999\n",
      "The train error rate of images with 5 : 0.040000000000000036\n",
      "The train error rate of all images : 0.04625000000000001\n"
     ]
    }
   ],
   "source": [
    "error_rate(test_3,test_5)"
   ]
  }
 ],
 "metadata": {
  "kernelspec": {
   "display_name": "Python 3 (ipykernel)",
   "language": "python",
   "name": "python3"
  },
  "language_info": {
   "codemirror_mode": {
    "name": "ipython",
    "version": 3
   },
   "file_extension": ".py",
   "mimetype": "text/x-python",
   "name": "python",
   "nbconvert_exporter": "python",
   "pygments_lexer": "ipython3",
   "version": "3.8.8"
  }
 },
 "nbformat": 4,
 "nbformat_minor": 5
}
